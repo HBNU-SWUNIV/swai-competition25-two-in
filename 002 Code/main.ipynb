{
 "cells": [
  {
   "cell_type": "code",
   "execution_count": 2,
   "id": "772565f0",
   "metadata": {},
   "outputs": [
    {
     "name": "stdout",
     "output_type": "stream",
     "text": [
      "{'reply': '안녕하세요! 저에게는 실시간 정보나 날씨 데이터를 확인할 수 있는 기능이 없어요. 하지만 현재 위치의 날씨를 확인하고 싶다면, 날씨 앱이나 웹사이트를 이용해 보시는 것이 좋습니다. 필요하다면 날씨에 대한 일반적인 정보나 팁을 제공해 드릴 수 있습니다!'}\n"
     ]
    }
   ],
   "source": [
    "import requests\n",
    "\n",
    "# FastAPI 서버 주소\n",
    "url = \"http://127.0.0.1:8000/chat\"\n",
    "\n",
    "# 입력할 프롬프트\n",
    "data = {\"message\": \"안녕 GPT야, 오늘 날씨 어때?\"}\n",
    "\n",
    "# POST 요청\n",
    "response = requests.post(url, json=data)\n",
    "\n",
    "# 결과 출력\n",
    "print(response.json())"
   ]
  },
  {
   "cell_type": "code",
   "execution_count": 4,
   "id": "45750fa2",
   "metadata": {},
   "outputs": [
    {
     "name": "stdout",
     "output_type": "stream",
     "text": [
      "{'selected_boxes': [{'text': '서울', 'box': [[10, 20], [110, 20], [110, 60], [10, 60]]}, {'text': '부산', 'box': [[10, 110], [110, 110], [110, 150], [10, 150]]}, {'text': '2025. 03. 18. 오전 10:00', 'box': [[10, 200], [300, 200], [300, 240], [10, 240]]}, {'text': '총 1명', 'box': [[10, 290], [90, 290], [90, 330], [10, 330]]}, {'text': '열차 조회', 'box': [[50, 380], [230, 380], [230, 430], [50, 430]]}]}\n"
     ]
    }
   ],
   "source": [
    "import base64\n",
    "import json\n",
    "import requests\n",
    "\n",
    "# 1. 이미지 파일을 base64로 인코딩\n",
    "with open(\"we.jpg\", \"rb\") as img_file:\n",
    "    img_base64 = base64.b64encode(img_file.read()).decode(\"utf-8\")\n",
    "\n",
    "# 2. 요청 데이터 구성\n",
    "payload = {\n",
    "    \"user_prompt\": \"2025년 3월 18일에 서울에서 진부(오대산)으로 이동\",\n",
    "    \"ocr_boxes\": [\n",
    "        {\"text\": \"서울\", \"box\": [[10, 20], [110, 20], [110, 60], [10, 60]]}\n",
    "        # ... 추가 OCR 박스\n",
    "    ],\n",
    "    \"image_base64\": img_base64\n",
    "}\n",
    "\n",
    "# 3. POST 요청 전송\n",
    "response = requests.post(\"http://127.0.0.1:8000/analyze\", json=payload)\n",
    "\n",
    "# 4. 결과 출력\n",
    "print(response.json())\n"
   ]
  }
 ],
 "metadata": {
  "kernelspec": {
   "display_name": "torch",
   "language": "python",
   "name": "python3"
  },
  "language_info": {
   "codemirror_mode": {
    "name": "ipython",
    "version": 3
   },
   "file_extension": ".py",
   "mimetype": "text/x-python",
   "name": "python",
   "nbconvert_exporter": "python",
   "pygments_lexer": "ipython3",
   "version": "3.9.21"
  }
 },
 "nbformat": 4,
 "nbformat_minor": 5
}
