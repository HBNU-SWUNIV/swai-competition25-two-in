{
 "cells": [
  {
   "cell_type": "code",
   "execution_count": 1,
   "metadata": {},
   "outputs": [
    {
     "name": "stderr",
     "output_type": "stream",
     "text": [
      "/opt/anaconda3/envs/choi_env/lib/python3.10/site-packages/paddle/utils/cpp_extension/extension_utils.py:711: UserWarning: No ccache found. Please be aware that recompiling all source files may be required. You can download and install ccache from: https://github.com/ccache/ccache/blob/master/doc/INSTALL.md\n",
      "  warnings.warn(warning_message)\n"
     ]
    },
    {
     "data": {
      "text/plain": [
       "True"
      ]
     },
     "execution_count": 1,
     "metadata": {},
     "output_type": "execute_result"
    }
   ],
   "source": [
    "from fastapi import FastAPI, HTTPException\n",
    "from pydantic import BaseModel\n",
    "import openai\n",
    "import os\n",
    "from dotenv import load_dotenv\n",
    "from openai import OpenAI\n",
    "from typing import List, Dict, Any\n",
    "import json\n",
    "from PIL import Image, ImageDraw, ImageFont\n",
    "import base64\n",
    "import io\n",
    "from paddleocr import PaddleOCR, draw_ocr\n",
    "import numpy as np\n",
    "\n",
    "# 환경변수 로드 및 GPT 클라이언트 초기화\n",
    "load_dotenv(dotenv_path=\".env\")"
   ]
  },
  {
   "cell_type": "code",
   "execution_count": 2,
   "metadata": {},
   "outputs": [],
   "source": [
    "api_key = os.getenv(\"OPENAI_API_KEY\")"
   ]
  },
  {
   "cell_type": "code",
   "execution_count": 3,
   "metadata": {},
   "outputs": [
    {
     "name": "stdout",
     "output_type": "stream",
     "text": [
      "🔑 API KEY 불러오기 상태: 성공\n",
      "🔑 API KEY 일부: sk-proj-ae\n"
     ]
    }
   ],
   "source": [
    "# 디버깅용 출력\n",
    "print(\"🔑 API KEY 불러오기 상태:\", \"성공\" if api_key else \"실패\")\n",
    "print(\"🔑 API KEY 일부:\", api_key[:10] if api_key else \"None\")\n",
    "\n",
    "if not api_key:\n",
    "    raise ValueError(\"❌ 환경변수 OPENAI_API_KEY를 찾을 수 없습니다.\")"
   ]
  },
  {
   "cell_type": "code",
   "execution_count": 4,
   "metadata": {},
   "outputs": [
    {
     "name": "stdout",
     "output_type": "stream",
     "text": [
      "{'selected_boxes': [{'text': '서울', 'box': [[648.0, 940.0], [747.0, 940.0], [747.0, 1010.0], [648.0, 1010.0]]}, {'text': '부산', 'box': [[648.0, 1231.0], [753.0, 1231.0], [753.0, 1301.0], [648.0, 1301.0]]}, {'text': '2025 03 25 오전 10:00', 'box': [[348.0, 1545.0], [933.0, 1545.0], [933.0, 1604.0], [348.0, 1604.0]]}, {'text': '총 1명', 'box': [[627.0, 1842.0], [768.0, 1842.0], [768.0, 1909.0], [627.0, 1909.0]]}, {'text': '열차 조회', 'box': [[618.0, 2203.0], [816.0, 2203.0], [816.0, 2271.0], [618.0, 2271.0]]}]}\n"
     ]
    }
   ],
   "source": [
    "import base64\n",
    "import json\n",
    "import requests\n",
    "image_path = \"/workspace/ppocr_test/we.jpg\"\n",
    "# 1. 이미지 파일을 base64로 인코딩\n",
    "with open(image_path, \"rb\") as img_file:\n",
    "    img_base64 = base64.b64encode(img_file.read()).decode(\"utf-8\")\n",
    "\n",
    "# 2. 요청 데이터 구성\n",
    "payload = {\n",
    "    \"user_prompt\": \"부산에서 출발하고 대전으로 도착하는 내일 아침 9시에 성인 3명 기차 예약해줘\",\n",
    "    \"image_base64\": img_base64\n",
    "}\n",
    "\n",
    "# 3. POST 요청 전송\n",
    "response = requests.post(\"http://127.0.0.1:8000/analyze\", json=payload)\n",
    "\n",
    "# 4. 결과 출력\n",
    "print(response.json())\n"
   ]
  },
  {
   "cell_type": "code",
   "execution_count": 33,
   "metadata": {},
   "outputs": [
    {
     "name": "stdout",
     "output_type": "stream",
     "text": [
      "✅ 박스 시각화 완료: /workspace/output/selected_boxes_viz.jpg\n"
     ]
    }
   ],
   "source": [
    "\n",
    "# 이미지 열기\n",
    "image = Image.open(image_path).convert(\"RGB\")\n",
    "draw = ImageDraw.Draw(image)\n",
    "\n",
    "# 글꼴 (선택 사항)\n",
    "try:\n",
    "    font = ImageFont.truetype(\"/workspace/MALGUN.TTF\", 24)\n",
    "except:\n",
    "    font = ImageFont.load_default()\n",
    "\n",
    "result = response.json()\n",
    "# 박스와 텍스트 시각화\n",
    "for item in result[\"selected_boxes\"]:\n",
    "    box = [tuple(point) for point in item[\"box\"]]  # 리스트 → 튜플\n",
    "    draw.polygon(box, outline=\"red\", width=3)\n",
    "    draw.text((box[0][0], box[0][1] - 25), item[\"text\"], fill=\"red\", font=font)\n",
    "\n",
    "# 결과 저장\n",
    "output_path = \"/workspace/output/selected_boxes_viz.jpg\"\n",
    "image.save(output_path)\n",
    "print(f\"✅ 박스 시각화 완료: {output_path}\")"
   ]
  },
  {
   "cell_type": "markdown",
   "metadata": {},
   "source": [
    "## 여러테스트"
   ]
  },
  {
   "cell_type": "code",
   "execution_count": 5,
   "metadata": {},
   "outputs": [
    {
     "name": "stdout",
     "output_type": "stream",
     "text": [
      "{'selected_boxes': [{'text': '서울', 'box': [[648.0, 940.0], [747.0, 940.0], [747.0, 1010.0], [648.0, 1010.0]]}, {'text': '부산', 'box': [[648.0, 1231.0], [753.0, 1231.0], [753.0, 1301.0], [648.0, 1301.0]]}, {'text': '2025 03 25 오전 10:00', 'box': [[348.0, 1545.0], [933.0, 1545.0], [933.0, 1604.0], [348.0, 1604.0]]}, {'text': '총 1명', 'box': [[627.0, 1842.0], [768.0, 1842.0], [768.0, 1909.0], [627.0, 1909.0]]}, {'text': '열차 조회', 'box': [[618.0, 2203.0], [816.0, 2203.0], [816.0, 2271.0], [618.0, 2271.0]]}]}\n",
      "✅ 박스 시각화 완료: /workspace/output/selected_boxes1.jpg\n"
     ]
    }
   ],
   "source": [
    "import base64\n",
    "import json\n",
    "import requests\n",
    "image_path = \"/workspace/ppocr_test/we.jpg\"\n",
    "# 1. 이미지 파일을 base64로 인코딩\n",
    "with open(image_path, \"rb\") as img_file:\n",
    "    img_base64 = base64.b64encode(img_file.read()).decode(\"utf-8\")\n",
    "\n",
    "# 2. 요청 데이터 구성\n",
    "payload = {\n",
    "    \"user_prompt\": \"서울에서 출발해서 광주까지 가는 기차표 내일 오전 9시로 성인 셋 예약해줘\",\n",
    "    \"image_base64\": img_base64\n",
    "}\n",
    "\n",
    "# 3. POST 요청 전송\n",
    "response = requests.post(\"http://127.0.0.1:8000/analyze\", json=payload)\n",
    "\n",
    "# 4. 결과 출력\n",
    "print(response.json())\n",
    "\n",
    "\n",
    "# 이미지 열기\n",
    "image = Image.open(image_path).convert(\"RGB\")\n",
    "draw = ImageDraw.Draw(image)\n",
    "\n",
    "# 글꼴 (선택 사항)\n",
    "try:\n",
    "    font = ImageFont.truetype(\"/workspace/MALGUN.TTF\", 24)\n",
    "except:\n",
    "    font = ImageFont.load_default()\n",
    "\n",
    "\n",
    "result = response.json()\n",
    "\n",
    "# 박스와 텍스트 시각화\n",
    "for item in result[\"selected_boxes\"]:\n",
    "    box = [tuple(point) for point in item[\"box\"]]  # 리스트 → 튜플\n",
    "    draw.polygon(box, outline=\"red\", width=3)\n",
    "    draw.text((box[0][0], box[0][1] - 25), item[\"text\"], fill=\"red\", font=font)\n",
    "\n",
    "# 결과 저장\n",
    "output_path = \"/workspace/output/selected_boxes1.jpg\"\n",
    "image.save(output_path)\n",
    "print(f\"✅ 박스 시각화 완료: {output_path}\")"
   ]
  },
  {
   "cell_type": "code",
   "execution_count": null,
   "metadata": {},
   "outputs": [
    {
     "name": "stdout",
     "output_type": "stream",
     "text": [
      "✅ 박스 시각화 완료: /workspace/output/selected_boxes.jpg\n"
     ]
    }
   ],
   "source": []
  },
  {
   "cell_type": "code",
   "execution_count": null,
   "metadata": {},
   "outputs": [],
   "source": []
  },
  {
   "cell_type": "code",
   "execution_count": null,
   "metadata": {},
   "outputs": [],
   "source": []
  }
 ],
 "metadata": {
  "kernelspec": {
   "display_name": "choi_env",
   "language": "python",
   "name": "python3"
  },
  "language_info": {
   "codemirror_mode": {
    "name": "ipython",
    "version": 3
   },
   "file_extension": ".py",
   "mimetype": "text/x-python",
   "name": "python",
   "nbconvert_exporter": "python",
   "pygments_lexer": "ipython3",
   "version": "3.10.9"
  }
 },
 "nbformat": 4,
 "nbformat_minor": 2
}
